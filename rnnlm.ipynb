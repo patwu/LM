{
 "cells": [
  {
   "cell_type": "markdown",
   "metadata": {},
   "source": [
    "# 循环神经网络语言模型\n",
    "## 自然语言编码\n",
    "神经网络无法直接处理汉字，需要将汉字编号。下面这段代码就是利用Python的字典，对一句话中的每个字进行编号。\n"
   ]
  },
  {
   "cell_type": "code",
   "execution_count": null,
   "metadata": {},
   "outputs": [],
   "source": [
    "def encode_sentence(s,chars):\n",
    "    sid=[0]\n",
    "    for c in s:\n",
    "        if not c in chars:\n",
    "            chars[c]=len(chars)\n",
    "        sid.append(chars[c])\n",
    "    sid.append(1)\n",
    "    return sid"
   ]
  },
  {
   "cell_type": "code",
   "execution_count": null,
   "metadata": {
    "scrolled": true
   },
   "outputs": [],
   "source": [
    "chars={'<BOS>':0,'<EOS>':1,'<UNK>':2}\n",
    "sen=\"巴黎是法国的首都及最大都市，同时是法兰西岛大区首府，为法国的政治与文化中心，隶属法兰西岛大区之下的巴黎省\"\n",
    "encode_sentence(sen,chars)\n"
   ]
  },
  {
   "cell_type": "markdown",
   "metadata": {},
   "source": [
    "## 读取数据\n",
    "读取的同时将汉字处理成上述的编号，同时要记录汉字和编号的对应表"
   ]
  },
  {
   "cell_type": "code",
   "execution_count": null,
   "metadata": {},
   "outputs": [],
   "source": [
    "import os\n",
    "import json\n",
    "import pickle\n",
    "\n",
    "def prepare_data(dir_):\n",
    "    chars={'<BOS>':0,'<EOS>':1,'<UNK>':2}\n",
    "    sentences=[]\n",
    "    sids=[]\n",
    "    files=os.listdir(dir_)\n",
    "    for file_ in files:\n",
    "        al=os.path.join(dir_,file_)\n",
    "        print al\n",
    "        with open(al,'r') as f:\n",
    "            lines=f.readlines()\n",
    "            for line in lines:\n",
    "                data=json.loads(line)\n",
    "                text=data['text']\n",
    "                sen=text.split('\\n')\n",
    "                for s in sen:\n",
    "                    if len(s.strip())>0:\n",
    "                        sentences.append(s)\n",
    "                        sid=encode_sentence(s,chars)\n",
    "                        sids.append(sid)\n",
    "    n_char=len(chars)\n",
    "    print 'vocabulary_size=%d data_size=%d'%(n_char,len(sids))\n",
    "    pickle.dump(chars,open('chars.pkl','wb'))\n",
    "    \n",
    "    return sentences,sids,chars"
   ]
  },
  {
   "cell_type": "code",
   "execution_count": null,
   "metadata": {},
   "outputs": [],
   "source": [
    "sentences,sids,chars=prepare_data(\"corpus\")"
   ]
  },
  {
   "cell_type": "markdown",
   "metadata": {},
   "source": [
    "## 训练神经网络\n",
    "首先设置一些超参数"
   ]
  },
  {
   "cell_type": "code",
   "execution_count": null,
   "metadata": {},
   "outputs": [],
   "source": [
    "class Args(object):\n",
    "    max_length=256\n",
    "    n_emb=80\n",
    "    vocab_size=12000\n",
    "    n_hidden=512\n",
    "    batch_size=16"
   ]
  },
  {
   "cell_type": "markdown",
   "metadata": {},
   "source": [
    "## 开始训练流程"
   ]
  },
  {
   "cell_type": "code",
   "execution_count": null,
   "metadata": {},
   "outputs": [],
   "source": [
    "from lstm import LSTMLM\n",
    "import numpy as np\n",
    "import copy\n",
    "\n",
    "def train(sids):\n",
    "    args=Args()\n",
    "    lstm=LSTMLM(args)\n",
    "    lstm.build_model()\n",
    "    \n",
    "    for i in range(40000):\n",
    "        batch_sen=np.random.choice(sids,size=args.batch_size)\n",
    "        batch_sen=[copy.copy(s) for s in batch_sen]\n",
    "        loss=lstm.train(batch_sen)\n",
    "        if i%10==0:\n",
    "            print 'step=%d, loss=%.3f'%(i,loss)\n",
    "        if i%1000==0 and i!=0:\n",
    "            lstm.save_model('model')\n",
    "\n",
    "train(sids)"
   ]
  },
  {
   "cell_type": "markdown",
   "metadata": {},
   "source": [
    "## 测试和使用\n",
    "语言模型可以判断任意字符串是自然语言的概率，有非常多的用处。\n",
    "### 判断几句话中哪句更通顺"
   ]
  },
  {
   "cell_type": "code",
   "execution_count": null,
   "metadata": {},
   "outputs": [],
   "source": [
    "from lstm import LSTMLM\n",
    "import numpy as np\n",
    "\n",
    "def get_prob(sen):\n",
    "    sen=sen.decode('utf-8')\n",
    "    args=Args()\n",
    "    lstm=LSTMLM(args)\n",
    "    lstm.build_model()\n",
    "    lstm.load_model('model')\n",
    "    chars=pickle.load(open('chars.pkl','rb'))\n",
    "    \n",
    "    prob=0.\n",
    "    segments=[c for c in sen]\n",
    "    segments.insert(0,'<BOS>')\n",
    "    segments.append('<EOS>')\n",
    "    sid=[(chars[c] if c in chars else 2)for c in segments]\n",
    "    eprob=0\n",
    "    for i in range(1,len(sid)):\n",
    "        dist=lstm.next_char([sid[:i]])[0]\n",
    "        eprob+=np.log(sid[i])\n",
    "        epp=-eprob/i\n",
    "        print sen[:i].encode('utf-8'),epp,eprob\n",
    "    return epp\n"
   ]
  },
  {
   "cell_type": "code",
   "execution_count": null,
   "metadata": {},
   "outputs": [],
   "source": [
    "sen1=\"分哈啊词腌可\"\n",
    "print get_prob(sen1)\n",
    "sen2=\"数学是一门历史悠久的学科。\"\n",
    "print get_prob(sen2)"
   ]
  },
  {
   "cell_type": "markdown",
   "metadata": {},
   "source": [
    "### 将句子补齐"
   ]
  },
  {
   "cell_type": "code",
   "execution_count": null,
   "metadata": {},
   "outputs": [],
   "source": [
    "from lstm import LSTMLM\n",
    "import numpy as np\n",
    "import copy\n",
    "\n",
    "def maximum_generate(prefix):\n",
    "    prefix=prefix.decode('utf-8')\n",
    "    args=Args()\n",
    "    lstm=LSTMLM(args)\n",
    "    lstm.build_model()\n",
    "    lstm.load_model('model')\n",
    "    chars=pickle.load(open('chars.pkl','rb'))\n",
    "    rchars={chars[c]:c for c in chars}\n",
    "    \n",
    "    segments=[c for c in prefix]\n",
    "    segments.insert(0,'<BOS>')\n",
    "    sid=[(chars[c] if c in chars else 2)for c in segments]\n",
    "    str_=prefix\n",
    "    while sid[-1]!=1 and len(sid)<64:\n",
    "        dist=lstm.next_char([copy.copy(sid)])[0]\n",
    "        nxt=np.random.choice(range(args.vocab_size),p=dist)\n",
    "        sid.append(nxt)\n",
    "        c2=rchars[nxt]\n",
    "        str_+=c2\n",
    "        print str_.encode('utf-8')\n",
    "    return str_"
   ]
  },
  {
   "cell_type": "code",
   "execution_count": null,
   "metadata": {},
   "outputs": [],
   "source": [
    "print maximum_generate(\"数学\").encode('utf-8')"
   ]
  }
 ],
 "metadata": {
  "kernelspec": {
   "display_name": "Python 2",
   "language": "python",
   "name": "python2"
  },
  "language_info": {
   "codemirror_mode": {
    "name": "ipython",
    "version": 2
   },
   "file_extension": ".py",
   "mimetype": "text/x-python",
   "name": "python",
   "nbconvert_exporter": "python",
   "pygments_lexer": "ipython2",
   "version": "2.7.12"
  }
 },
 "nbformat": 4,
 "nbformat_minor": 2
}
